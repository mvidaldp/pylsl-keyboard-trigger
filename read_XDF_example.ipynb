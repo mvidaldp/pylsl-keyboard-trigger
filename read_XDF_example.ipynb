{
 "metadata": {
  "language_info": {
   "codemirror_mode": {
    "name": "ipython",
    "version": 3
   },
   "file_extension": ".py",
   "mimetype": "text/x-python",
   "name": "python",
   "nbconvert_exporter": "python",
   "pygments_lexer": "ipython3",
   "version": "3.8.5-final"
  },
  "orig_nbformat": 2,
  "kernelspec": {
   "name": "python38564bitkeyboardtriggervenva9ba7dcaae0c4aa5ad87b6aa589ec5c5",
   "display_name": "Python 3.8.5 64-bit ('keyboard-trigger': venv)"
  }
 },
 "nbformat": 4,
 "nbformat_minor": 2,
 "cells": [
  {
   "source": [
    "__Dependencies__"
   ],
   "cell_type": "markdown",
   "metadata": {}
  },
  {
   "cell_type": "code",
   "execution_count": 1,
   "metadata": {},
   "outputs": [],
   "source": [
    "import pyxdf"
   ]
  },
  {
   "source": [
    "__Read file__"
   ],
   "cell_type": "markdown",
   "metadata": {}
  },
  {
   "cell_type": "code",
   "execution_count": 2,
   "metadata": {},
   "outputs": [],
   "source": [
    "data, header = pyxdf.load_xdf(\"recording_test.xdf\")"
   ]
  },
  {
   "source": [
    "__How the header looks like__"
   ],
   "cell_type": "markdown",
   "metadata": {}
  },
  {
   "cell_type": "code",
   "execution_count": 3,
   "metadata": {},
   "outputs": [
    {
     "output_type": "execute_result",
     "data": {
      "text/plain": "{&#39;info&#39;: defaultdict(list, {&#39;version&#39;: [&#39;1.0&#39;]})}"
     },
     "metadata": {},
     "execution_count": 3
    }
   ],
   "source": [
    "header"
   ]
  },
  {
   "source": [
    "__How the recorded stream looks like__"
   ],
   "cell_type": "markdown",
   "metadata": {}
  },
  {
   "cell_type": "code",
   "execution_count": 4,
   "metadata": {},
   "outputs": [
    {
     "output_type": "execute_result",
     "data": {
      "text/plain": "[{&#39;info&#39;: defaultdict(list,\n              {&#39;name&#39;: [&#39;KeyboardTriggers&#39;],\n               &#39;type&#39;: [&#39;Markers&#39;],\n               &#39;channel_count&#39;: [&#39;1&#39;],\n               &#39;channel_format&#39;: [&#39;float32&#39;],\n               &#39;source_id&#39;: [&#39;475682b2-0db0-11eb-afa8-4e6f924a17f9&#39;],\n               &#39;nominal_srate&#39;: [&#39;0.000000000000000&#39;],\n               &#39;version&#39;: [&#39;1.100000000000000&#39;],\n               &#39;created_at&#39;: [&#39;41621.44886436800&#39;],\n               &#39;uid&#39;: [&#39;6c16a77b-2394-4e3a-9dbd-dbbe3d45984b&#39;],\n               &#39;session_id&#39;: [&#39;default&#39;],\n               &#39;hostname&#39;: [&#39;velorum&#39;],\n               &#39;v4address&#39;: [None],\n               &#39;v4data_port&#39;: [&#39;16572&#39;],\n               &#39;v4service_port&#39;: [&#39;16572&#39;],\n               &#39;v6address&#39;: [None],\n               &#39;v6data_port&#39;: [&#39;16573&#39;],\n               &#39;v6service_port&#39;: [&#39;16573&#39;],\n               &#39;desc&#39;: [None],\n               &#39;stream_id&#39;: 1,\n               &#39;effective_srate&#39;: 0}),\n  &#39;footer&#39;: {&#39;info&#39;: defaultdict(list,\n               {&#39;first_timestamp&#39;: [&#39;41638.153353279&#39;],\n                &#39;last_timestamp&#39;: [&#39;41656.001764507&#39;],\n                &#39;sample_count&#39;: [&#39;10&#39;],\n                &#39;clock_offsets&#39;: [defaultdict(list,\n                             {&#39;offset&#39;: [defaultdict(list,\n                                           {&#39;time&#39;: [&#39;41639.94104334799&#39;],\n                                            &#39;value&#39;: [&#39;6.676000339211896e-06&#39;]}),\n                               defaultdict(list,\n                                           {&#39;time&#39;: [&#39;41644.9412010505&#39;],\n                                            &#39;value&#39;: [&#39;-4.468500264920294e-06&#39;]}),\n                               defaultdict(list,\n                                           {&#39;time&#39;: [&#39;41649.941346739&#39;],\n                                            &#39;value&#39;: [&#39;5.323003279045224e-06&#39;]}),\n                               defaultdict(list,\n                                           {&#39;time&#39;: [&#39;41654.941468593&#39;],\n                                            &#39;value&#39;: [&#39;-1.664099909248762e-05&#39;]}),\n                               defaultdict(list,\n                                           {&#39;time&#39;: [&#39;41659.9416115225&#39;],\n                                            &#39;value&#39;: [&#39;-1.103249815059826e-05&#39;]}),\n                               defaultdict(list,\n                                           {&#39;time&#39;: [&#39;41664.9417256125&#39;],\n                                            &#39;value&#39;: [&#39;-1.103249815059826e-05&#39;]})]})]})},\n  &#39;time_series&#39;: array([[1.6026336e+09],\n         [1.6026336e+09],\n         [1.6026336e+09],\n         [1.6026336e+09],\n         [1.6026336e+09],\n         [1.6026336e+09],\n         [1.6026336e+09],\n         [1.6026336e+09],\n         [1.6026336e+09],\n         [1.6026336e+09],\n         [1.6026337e+09]], dtype=float32),\n  &#39;time_stamps&#39;: array([41638.15335871, 41641.98164204, 41644.52020792, 41645.22562012,\n         41646.05192351, 41646.85561078, 41648.64911245, 41649.67762192,\n         41650.60361406, 41651.83161541, 41656.00175666])}]"
     },
     "metadata": {},
     "execution_count": 4
    }
   ],
   "source": [
    "data"
   ]
  },
  {
   "source": [
    "__On `info` there's the recorded stream/s information (name, type, data type, hostname, uid, sampling rate, etc.)__"
   ],
   "cell_type": "markdown",
   "metadata": {}
  },
  {
   "cell_type": "code",
   "execution_count": 6,
   "metadata": {},
   "outputs": [
    {
     "output_type": "execute_result",
     "data": {
      "text/plain": "defaultdict(list,\n            {&#39;name&#39;: [&#39;KeyboardTriggers&#39;],\n             &#39;type&#39;: [&#39;Markers&#39;],\n             &#39;channel_count&#39;: [&#39;1&#39;],\n             &#39;channel_format&#39;: [&#39;float32&#39;],\n             &#39;source_id&#39;: [&#39;475682b2-0db0-11eb-afa8-4e6f924a17f9&#39;],\n             &#39;nominal_srate&#39;: [&#39;0.000000000000000&#39;],\n             &#39;version&#39;: [&#39;1.100000000000000&#39;],\n             &#39;created_at&#39;: [&#39;41621.44886436800&#39;],\n             &#39;uid&#39;: [&#39;6c16a77b-2394-4e3a-9dbd-dbbe3d45984b&#39;],\n             &#39;session_id&#39;: [&#39;default&#39;],\n             &#39;hostname&#39;: [&#39;velorum&#39;],\n             &#39;v4address&#39;: [None],\n             &#39;v4data_port&#39;: [&#39;16572&#39;],\n             &#39;v4service_port&#39;: [&#39;16572&#39;],\n             &#39;v6address&#39;: [None],\n             &#39;v6data_port&#39;: [&#39;16573&#39;],\n             &#39;v6service_port&#39;: [&#39;16573&#39;],\n             &#39;desc&#39;: [None],\n             &#39;stream_id&#39;: 1,\n             &#39;effective_srate&#39;: 0})"
     },
     "metadata": {},
     "execution_count": 6
    }
   ],
   "source": [
    "data[0][\"info\"]"
   ]
  },
  {
   "source": [
    "__On `footer` there's the timing information of the recorded stream/s (first and last timestamps, sample count, etc.)__"
   ],
   "cell_type": "markdown",
   "metadata": {}
  },
  {
   "cell_type": "code",
   "execution_count": 7,
   "metadata": {},
   "outputs": [
    {
     "output_type": "execute_result",
     "data": {
      "text/plain": "{&#39;info&#39;: defaultdict(list,\n             {&#39;first_timestamp&#39;: [&#39;41638.153353279&#39;],\n              &#39;last_timestamp&#39;: [&#39;41656.001764507&#39;],\n              &#39;sample_count&#39;: [&#39;10&#39;],\n              &#39;clock_offsets&#39;: [defaultdict(list,\n                           {&#39;offset&#39;: [defaultdict(list,\n                                         {&#39;time&#39;: [&#39;41639.94104334799&#39;],\n                                          &#39;value&#39;: [&#39;6.676000339211896e-06&#39;]}),\n                             defaultdict(list,\n                                         {&#39;time&#39;: [&#39;41644.9412010505&#39;],\n                                          &#39;value&#39;: [&#39;-4.468500264920294e-06&#39;]}),\n                             defaultdict(list,\n                                         {&#39;time&#39;: [&#39;41649.941346739&#39;],\n                                          &#39;value&#39;: [&#39;5.323003279045224e-06&#39;]}),\n                             defaultdict(list,\n                                         {&#39;time&#39;: [&#39;41654.941468593&#39;],\n                                          &#39;value&#39;: [&#39;-1.664099909248762e-05&#39;]}),\n                             defaultdict(list,\n                                         {&#39;time&#39;: [&#39;41659.9416115225&#39;],\n                                          &#39;value&#39;: [&#39;-1.103249815059826e-05&#39;]}),\n                             defaultdict(list,\n                                         {&#39;time&#39;: [&#39;41664.9417256125&#39;],\n                                          &#39;value&#39;: [&#39;-1.103249815059826e-05&#39;]})]})]})}"
     },
     "metadata": {},
     "execution_count": 7
    }
   ],
   "source": [
    "data[0][\"footer\"]"
   ]
  },
  {
   "source": [
    "__On `time_series` is where the information streamed is stored. In this case, these are the UNIX timestamps generated on the Python script `keyboard-trigger.py` at each key press event.__"
   ],
   "cell_type": "markdown",
   "metadata": {}
  },
  {
   "cell_type": "code",
   "execution_count": 8,
   "metadata": {},
   "outputs": [
    {
     "output_type": "execute_result",
     "data": {
      "text/plain": "array([[1.6026336e+09],\n       [1.6026336e+09],\n       [1.6026336e+09],\n       [1.6026336e+09],\n       [1.6026336e+09],\n       [1.6026336e+09],\n       [1.6026336e+09],\n       [1.6026336e+09],\n       [1.6026336e+09],\n       [1.6026336e+09],\n       [1.6026337e+09]], dtype=float32)"
     },
     "metadata": {},
     "execution_count": 8
    }
   ],
   "source": [
    "data[0][\"time_series\"]"
   ]
  },
  {
   "source": [
    "__On `time_stamps` is where the synchronized timestamps across all the streams are stored. It's time in seconds, not UNIX timestamps.__"
   ],
   "cell_type": "markdown",
   "metadata": {}
  },
  {
   "cell_type": "code",
   "execution_count": 11,
   "metadata": {
    "tags": []
   },
   "outputs": [
    {
     "output_type": "execute_result",
     "data": {
      "text/plain": "array([41638.15335871, 41641.98164204, 41644.52020792, 41645.22562012,\n       41646.05192351, 41646.85561078, 41648.64911245, 41649.67762192,\n       41650.60361406, 41651.83161541, 41656.00175666])"
     },
     "metadata": {},
     "execution_count": 11
    }
   ],
   "source": [
    "data[0][\"time_stamps\"]"
   ]
  },
  {
   "source": [
    "For more in-depth examples about how to read LSL recordings from XDF files, plots, and so on, check:\n",
    "- https://github.com/mvidaldp/lsl_latency_analysis/blob/master/analysis.ipynb\n",
    "- https://github.com/mvidaldp/lsl_latency_analysis/blob/master/analysis_2.ipynb\n"
   ],
   "cell_type": "markdown",
   "metadata": {}
  }
 ]
}