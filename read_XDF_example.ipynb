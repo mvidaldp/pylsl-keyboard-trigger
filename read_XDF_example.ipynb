{
 "cells": [
  {
   "cell_type": "markdown",
   "metadata": {},
   "source": [
    "Dependencies"
   ]
  },
  {
   "cell_type": "code",
   "execution_count": 1,
   "metadata": {},
   "outputs": [],
   "source": [
    "import pyxdf"
   ]
  },
  {
   "cell_type": "markdown",
   "metadata": {},
   "source": [
    "Read file"
   ]
  },
  {
   "cell_type": "code",
   "execution_count": 2,
   "metadata": {},
   "outputs": [],
   "source": [
    "data, header = pyxdf.load_xdf(\"recording_test.xdf\")"
   ]
  },
  {
   "cell_type": "markdown",
   "metadata": {},
   "source": [
    "How the header looks like"
   ]
  },
  {
   "cell_type": "code",
   "execution_count": 3,
   "metadata": {},
   "outputs": [
    {
     "data": {
      "text/plain": [
       "{'info': defaultdict(list, {'version': ['1.0']})}"
      ]
     },
     "execution_count": 3,
     "metadata": {},
     "output_type": "execute_result"
    }
   ],
   "source": [
    "header"
   ]
  },
  {
   "cell_type": "markdown",
   "metadata": {},
   "source": [
    "How the recorded stream looks like"
   ]
  },
  {
   "cell_type": "code",
   "execution_count": 4,
   "metadata": {},
   "outputs": [
    {
     "data": {
      "text/plain": [
       "[{'info': defaultdict(list,\n",
       "              {'name': ['KeyboardTriggers'],\n",
       "               'type': ['Markers'],\n",
       "               'channel_count': ['1'],\n",
       "               'channel_format': ['float32'],\n",
       "               'source_id': ['475682b2-0db0-11eb-afa8-4e6f924a17f9'],\n",
       "               'nominal_srate': ['0.000000000000000'],\n",
       "               'version': ['1.100000000000000'],\n",
       "               'created_at': ['41621.44886436800'],\n",
       "               'uid': ['6c16a77b-2394-4e3a-9dbd-dbbe3d45984b'],\n",
       "               'session_id': ['default'],\n",
       "               'hostname': ['velorum'],\n",
       "               'v4address': [None],\n",
       "               'v4data_port': ['16572'],\n",
       "               'v4service_port': ['16572'],\n",
       "               'v6address': [None],\n",
       "               'v6data_port': ['16573'],\n",
       "               'v6service_port': ['16573'],\n",
       "               'desc': [None],\n",
       "               'stream_id': 1,\n",
       "               'effective_srate': 0}),\n",
       "  'footer': {'info': defaultdict(list,\n",
       "               {'first_timestamp': ['41638.153353279'],\n",
       "                'last_timestamp': ['41656.001764507'],\n",
       "                'sample_count': ['10'],\n",
       "                'clock_offsets': [defaultdict(list,\n",
       "                             {'offset': [defaultdict(list,\n",
       "                                           {'time': ['41639.94104334799'],\n",
       "                                            'value': ['6.676000339211896e-06']}),\n",
       "                               defaultdict(list,\n",
       "                                           {'time': ['41644.9412010505'],\n",
       "                                            'value': ['-4.468500264920294e-06']}),\n",
       "                               defaultdict(list,\n",
       "                                           {'time': ['41649.941346739'],\n",
       "                                            'value': ['5.323003279045224e-06']}),\n",
       "                               defaultdict(list,\n",
       "                                           {'time': ['41654.941468593'],\n",
       "                                            'value': ['-1.664099909248762e-05']}),\n",
       "                               defaultdict(list,\n",
       "                                           {'time': ['41659.9416115225'],\n",
       "                                            'value': ['-1.103249815059826e-05']}),\n",
       "                               defaultdict(list,\n",
       "                                           {'time': ['41664.9417256125'],\n",
       "                                            'value': ['-1.103249815059826e-05']})]})]})},\n",
       "  'time_series': array([[1.6026336e+09],\n",
       "         [1.6026336e+09],\n",
       "         [1.6026336e+09],\n",
       "         [1.6026336e+09],\n",
       "         [1.6026336e+09],\n",
       "         [1.6026336e+09],\n",
       "         [1.6026336e+09],\n",
       "         [1.6026336e+09],\n",
       "         [1.6026336e+09],\n",
       "         [1.6026336e+09],\n",
       "         [1.6026337e+09]], dtype=float32),\n",
       "  'time_stamps': array([41638.15335871, 41641.98164204, 41644.52020792, 41645.22562012,\n",
       "         41646.05192351, 41646.85561078, 41648.64911245, 41649.67762192,\n",
       "         41650.60361406, 41651.83161541, 41656.00175666])}]"
      ]
     },
     "execution_count": 4,
     "metadata": {},
     "output_type": "execute_result"
    }
   ],
   "source": [
    "data"
   ]
  },
  {
   "cell_type": "markdown",
   "metadata": {},
   "source": [
    "The `data` part read from the file is an array/list of dictionaries. So, each dict represents a different stream. Since in this case we only recorded one stream, we only see one dict. The keys contained on it are explained below.\n",
    "\n",
    "On `info` there's the recorded stream/s information (name, type, data type, hostname, uid, sampling rate, etc.)"
   ]
  },
  {
   "cell_type": "code",
   "execution_count": 5,
   "metadata": {},
   "outputs": [
    {
     "data": {
      "text/plain": [
       "defaultdict(list,\n",
       "            {'name': ['KeyboardTriggers'],\n",
       "             'type': ['Markers'],\n",
       "             'channel_count': ['1'],\n",
       "             'channel_format': ['float32'],\n",
       "             'source_id': ['475682b2-0db0-11eb-afa8-4e6f924a17f9'],\n",
       "             'nominal_srate': ['0.000000000000000'],\n",
       "             'version': ['1.100000000000000'],\n",
       "             'created_at': ['41621.44886436800'],\n",
       "             'uid': ['6c16a77b-2394-4e3a-9dbd-dbbe3d45984b'],\n",
       "             'session_id': ['default'],\n",
       "             'hostname': ['velorum'],\n",
       "             'v4address': [None],\n",
       "             'v4data_port': ['16572'],\n",
       "             'v4service_port': ['16572'],\n",
       "             'v6address': [None],\n",
       "             'v6data_port': ['16573'],\n",
       "             'v6service_port': ['16573'],\n",
       "             'desc': [None],\n",
       "             'stream_id': 1,\n",
       "             'effective_srate': 0})"
      ]
     },
     "execution_count": 5,
     "metadata": {},
     "output_type": "execute_result"
    }
   ],
   "source": [
    "data[0][\"info\"]"
   ]
  },
  {
   "cell_type": "markdown",
   "metadata": {},
   "source": [
    "On `footer` there's the timing information of the recorded stream/s (first and last timestamps, sample count, etc.)"
   ]
  },
  {
   "cell_type": "code",
   "execution_count": 6,
   "metadata": {},
   "outputs": [
    {
     "data": {
      "text/plain": [
       "{'info': defaultdict(list,\n",
       "             {'first_timestamp': ['41638.153353279'],\n",
       "              'last_timestamp': ['41656.001764507'],\n",
       "              'sample_count': ['10'],\n",
       "              'clock_offsets': [defaultdict(list,\n",
       "                           {'offset': [defaultdict(list,\n",
       "                                         {'time': ['41639.94104334799'],\n",
       "                                          'value': ['6.676000339211896e-06']}),\n",
       "                             defaultdict(list,\n",
       "                                         {'time': ['41644.9412010505'],\n",
       "                                          'value': ['-4.468500264920294e-06']}),\n",
       "                             defaultdict(list,\n",
       "                                         {'time': ['41649.941346739'],\n",
       "                                          'value': ['5.323003279045224e-06']}),\n",
       "                             defaultdict(list,\n",
       "                                         {'time': ['41654.941468593'],\n",
       "                                          'value': ['-1.664099909248762e-05']}),\n",
       "                             defaultdict(list,\n",
       "                                         {'time': ['41659.9416115225'],\n",
       "                                          'value': ['-1.103249815059826e-05']}),\n",
       "                             defaultdict(list,\n",
       "                                         {'time': ['41664.9417256125'],\n",
       "                                          'value': ['-1.103249815059826e-05']})]})]})}"
      ]
     },
     "execution_count": 6,
     "metadata": {},
     "output_type": "execute_result"
    }
   ],
   "source": [
    "data[0][\"footer\"]"
   ]
  },
  {
   "cell_type": "markdown",
   "metadata": {},
   "source": [
    "On `time_series` is where the information streamed is stored. In this case, these are the UNIX timestamps generated on the Python script `keyboard-trigger.py` at each key press event."
   ]
  },
  {
   "cell_type": "code",
   "execution_count": 7,
   "metadata": {},
   "outputs": [
    {
     "data": {
      "text/plain": [
       "array([[1.6026336e+09],\n",
       "       [1.6026336e+09],\n",
       "       [1.6026336e+09],\n",
       "       [1.6026336e+09],\n",
       "       [1.6026336e+09],\n",
       "       [1.6026336e+09],\n",
       "       [1.6026336e+09],\n",
       "       [1.6026336e+09],\n",
       "       [1.6026336e+09],\n",
       "       [1.6026336e+09],\n",
       "       [1.6026337e+09]], dtype=float32)"
      ]
     },
     "execution_count": 7,
     "metadata": {},
     "output_type": "execute_result"
    }
   ],
   "source": [
    "data[0][\"time_series\"]"
   ]
  },
  {
   "cell_type": "markdown",
   "metadata": {},
   "source": [
    "On `time_stamps` is where the synchronized timestamps across all the streams are stored. It's time in seconds, not UNIX timestamps."
   ]
  },
  {
   "cell_type": "code",
   "execution_count": 8,
   "metadata": {
    "tags": []
   },
   "outputs": [
    {
     "data": {
      "text/plain": [
       "array([41638.15335871, 41641.98164204, 41644.52020792, 41645.22562012,\n",
       "       41646.05192351, 41646.85561078, 41648.64911245, 41649.67762192,\n",
       "       41650.60361406, 41651.83161541, 41656.00175666])"
      ]
     },
     "execution_count": 8,
     "metadata": {},
     "output_type": "execute_result"
    }
   ],
   "source": [
    "data[0][\"time_stamps\"]"
   ]
  },
  {
   "cell_type": "markdown",
   "metadata": {},
   "source": [
    "For more in-depth examples about how to read LSL recordings from XDF files, plots, and so on, check:\n",
    "- https://github.com/mvidaldp/lsl_latency_analysis/blob/master/analysis.ipynb\n",
    "- https://github.com/mvidaldp/lsl_latency_analysis/blob/master/analysis_2.ipynb\n"
   ]
  }
 ],
 "metadata": {
  "kernelspec": {
   "display_name": "Python 3.8.5 64-bit ('keyboard-trigger': venv)",
   "language": "python",
   "name": "python38564bitkeyboardtriggervenva9ba7dcaae0c4aa5ad87b6aa589ec5c5"
  },
  "language_info": {
   "codemirror_mode": {
    "name": "ipython",
    "version": 3
   },
   "file_extension": ".py",
   "mimetype": "text/x-python",
   "name": "python",
   "nbconvert_exporter": "python",
   "pygments_lexer": "ipython3",
   "version": "3.8.5"
  },
  "widgets": {
   "application/vnd.jupyter.widget-state+json": {
    "state": {},
    "version_major": 2,
    "version_minor": 0
   }
  }
 },
 "nbformat": 4,
 "nbformat_minor": 4
}
